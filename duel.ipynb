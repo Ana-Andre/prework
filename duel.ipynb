{
 "cells": [
  {
   "cell_type": "markdown",
   "metadata": {},
   "source": [
    "# Duel of sorcerers\n",
    "You are witnessing an epic battle between two powerful sorcerers: Gandalf and Saruman. Each sorcerer has 10 spells of variable power in their mind and they are going to throw them one after the other. The winner of the duel will be the one who wins more of those clashes between spells. Spells are represented as a list of 10 integers whose value equals the power of the spell.\n",
    "```\n",
    "gandalf = [10, 11, 13, 30, 22, 11, 10, 33, 22, 22]\n",
    "saruman = [23, 66, 12, 43, 12, 10, 44, 23, 12, 17]\n",
    "```\n",
    "For example:\n",
    "1. The first clash is won by Saruman: 10 against 23, wins 23\n",
    "2. The second clash wins Saruman: 11 against 66, wins 66\n",
    "3. etc.\n",
    "\n",
    "\n",
    "You will create two variables, one for each sorcerer, where the sum of clashes won will be stored. Depending on which variable is greater at the end of the duel, you will show one of the following three results on the screen:\n",
    "* Gandalf wins\n",
    "* Saruman wins\n",
    "* Tie\n",
    "\n",
    "<img src=\"images/content_lightning_bolt_big.jpg\" width=\"400\">"
   ]
  },
  {
   "cell_type": "markdown",
   "metadata": {},
   "source": [
    "## Solution"
   ]
  },
  {
   "cell_type": "code",
   "execution_count": 7,
   "metadata": {},
   "outputs": [
    {
     "name": "stdout",
     "output_type": "stream",
     "text": [
      "Gandalf wins with 6 victories.\n"
     ]
    }
   ],
   "source": [
    "# Assign spell power lists to variables\n",
    "\n",
    "gandalf = [10, 11, 13, 30, 22, 11, 10, 33, 22, 22]\n",
    "saruman = [23, 66, 12, 43, 12, 10, 44, 23, 12, 17]\n",
    "\n",
    "# Assign 0 to each variable that stores the victories\n",
    "gandalf_wins = 0\n",
    "saruman_wins = 0\n",
    "\n",
    "# Execution of spell clashes\n",
    "for i,j in zip(gandalf,saruman):\n",
    "    if i>j:\n",
    "        gandalf_wins += 1\n",
    "        \n",
    "    elif i<j:\n",
    "        saruman_wins += 1\n",
    "        \n",
    "    else:\n",
    "        gandalf_wins += 0\n",
    "        saruman_wins += 0\n",
    "    #print(gandalf_wins)\n",
    "    #print(saruman_wins)\n",
    "\n",
    "        \n",
    "# We check who has won, do not forget the possibility of a draw.\n",
    "# Print the result based on the winner.\n",
    "if gandalf_wins > saruman_wins:\n",
    "    print(\"Gandalf wins with\", gandalf_wins,\"victories.\")\n",
    "elif gandalf_wins < saruman_wins:\n",
    "    print(\"Saruman wins with\", saruman_wins,\"victories.\")\n",
    "else:\n",
    "    print(\"Tie.\")"
   ]
  },
  {
   "cell_type": "code",
   "execution_count": 2,
   "metadata": {},
   "outputs": [],
   "source": [
    "\n"
   ]
  },
  {
   "cell_type": "code",
   "execution_count": null,
   "metadata": {},
   "outputs": [],
   "source": [
    "\n"
   ]
  },
  {
   "cell_type": "code",
   "execution_count": 4,
   "metadata": {},
   "outputs": [],
   "source": [
    "\n"
   ]
  },
  {
   "cell_type": "markdown",
   "metadata": {},
   "source": [
    "## Goals\n",
    "\n",
    "1. Treatment of lists\n",
    "2. Use of **for loop**\n",
    "3. Use of conditional **if-elif-else**\n",
    "4. Use of the functions **range(), len()**\n",
    "5. Print"
   ]
  },
  {
   "cell_type": "markdown",
   "metadata": {},
   "source": [
    "## Bonus\n",
    "\n",
    "1. Spells now have a name and there is a dictionary that relates that name to a power.\n",
    "2. A sorcerer wins if he succeeds in winning 3 spell clashes in a row.\n",
    "3. Average of each of the spell lists.\n",
    "4. Standard deviation of each of the spell lists.\n",
    "\n",
    "```\n",
    "POWER = {\n",
    "    'Fireball': 50, \n",
    "    'Lightning bolt': 40, \n",
    "    'Magic arrow': 10, \n",
    "    'Black Tentacles': 25, \n",
    "    'Contagion': 45\n",
    "}\n",
    "\n",
    "gandalf = ['Fireball', 'Lightning bolt', 'Lightning bolt', 'Magic arrow', 'Fireball', \n",
    "           'Magic arrow', 'Lightning bolt', 'Fireball', 'Fireball', 'Fireball']\n",
    "saruman = ['Contagion', 'Contagion', 'Black Tentacles', 'Fireball', 'Black Tentacles', \n",
    "           'Lightning bolt', 'Magic arrow', 'Contagion', 'Magic arrow', 'Magic arrow']\n",
    "```\n",
    "\n",
    "Good luck!"
   ]
  },
  {
   "cell_type": "code",
   "execution_count": 39,
   "metadata": {},
   "outputs": [
    {
     "name": "stdout",
     "output_type": "stream",
     "text": [
      "[50, 40, 40, 10, 50, 10, 40, 50, 10, 50]\n",
      "[45, 45, 25, 50, 25, 40, 10, 45, 10, 10]\n",
      "['Gandalf', 'Saruman', 'Gandalf', 'Saruman', 'Gandalf', 'Saruman', 'Gandalf', 'Gandalf', 'Gandalf']\n",
      "The winner is Gandalf .\n",
      "35.0\n",
      "30.5\n",
      "Gandalf's standard deviation is 16.881943016134134\n",
      "Saruman's standard deviation is 15.56438241627338\n"
     ]
    }
   ],
   "source": [
    "# 1. Spells now have a name and there is a dictionary that relates that name to a power.\n",
    "# variables\n",
    "\n",
    "POWER = {\n",
    "    'Fireball': 50, \n",
    "    'Lightning bolt': 40, \n",
    "    'Magic arrow': 10, \n",
    "    'Black Tentacles': 25, \n",
    "    'Contagion': 45\n",
    "}\n",
    "\n",
    "gandalf = ['Fireball', 'Lightning bolt', 'Lightning bolt', 'Magic arrow', 'Fireball', \n",
    "           'Magic arrow', 'Lightning bolt', 'Fireball', 'Magic arrow', 'Fireball']\n",
    "saruman = ['Contagion', 'Contagion', 'Black Tentacles', 'Fireball', 'Black Tentacles', \n",
    "           'Lightning bolt', 'Magic arrow', 'Contagion', 'Magic arrow', 'Magic arrow']\n",
    "\n",
    "# Assign spell power lists to variables\n",
    "\n",
    "gandalf_power=[]\n",
    "saruman_power=[]\n",
    "\n",
    "for spell in gandalf:\n",
    "    gandalf_power.append(POWER[spell])\n",
    "print(gandalf_power)\n",
    "\n",
    "for spell in saruman:\n",
    "    saruman_power.append(POWER[spell])\n",
    "print(saruman_power)\n",
    "\n",
    "# 2. A sorcerer wins if he succeeds in winning 3 spell clashes in a row.\n",
    "wins = []\n",
    "\n",
    "\n",
    "# Execution of spell clashes\n",
    "\n",
    "for i,j in zip(gandalf_power,saruman_power):\n",
    "    if i > j:\n",
    "        wins.append('Gandalf')\n",
    "        \n",
    "    elif i < j:\n",
    "        wins.append('Saruman')\n",
    "                \n",
    "print(wins)\n",
    "\n",
    "# check for 3 wins in a row\n",
    "wins_in_a_row = 3\n",
    "\n",
    "for i in range(len(wins)-(wins_in_a_row-1)):\n",
    "    if wins[i] == wins[i+1] and wins[i] == wins[i+2]:\n",
    "        winner = wins[i]\n",
    "    else:\n",
    "        winner = \"No winner\"\n",
    "    \n",
    "# check the winner\n",
    "print(\"The winner is\", winner,\".\")\n",
    "\n",
    "# 3. Average of each of the spell lists.\n",
    "avg_gandalf = sum(gandalf_power)/len(gandalf_power)\n",
    "avg_saruman = sum(saruman_power)/len(saruman_power)\n",
    "\n",
    "print(avg_gandalf)\n",
    "print(avg_saruman)\n",
    "\n",
    "# 4. Standard deviation of each of the spell lists.\n",
    "num_list_gandalf = []\n",
    "g = 0\n",
    "\n",
    "for power in gandalf_power:\n",
    "    square_dif_g = (power - avg_gandalf)**2\n",
    "    num_list_gandalf.append(square_dif_g)\n",
    "    g += 1\n",
    "    #print(num_list_gandalf)\n",
    "    #print('n=', g)\n",
    "\n",
    "num_g = sum(num_list_gandalf)\n",
    "\n",
    "std_dev_g = (num_g/g)**(1/2)\n",
    "\n",
    "print(\"Gandalf's standard deviation is\", std_dev_g)\n",
    "\n",
    "num_list_saruman = []\n",
    "s = 0\n",
    "\n",
    "for power in saruman_power:\n",
    "    square_dif_s = (power - avg_saruman)**2\n",
    "    num_list_saruman.append(square_dif_s)\n",
    "    s += 1\n",
    "    #print(num_list_saruman)\n",
    "    #print('n=', s)\n",
    "\n",
    "num_s = sum(num_list_saruman)\n",
    "#print(num_s)\n",
    "\n",
    "std_dev_s = (num_s/s)**(1/2)\n",
    "\n",
    "print(\"Saruman's standard deviation is\", std_dev_s)\n"
   ]
  },
  {
   "cell_type": "code",
   "execution_count": 6,
   "metadata": {},
   "outputs": [],
   "source": [
    "\n",
    "\n"
   ]
  },
  {
   "cell_type": "code",
   "execution_count": 7,
   "metadata": {},
   "outputs": [],
   "source": [
    "\n",
    "\n",
    "\n",
    "\n"
   ]
  },
  {
   "cell_type": "code",
   "execution_count": 8,
   "metadata": {},
   "outputs": [],
   "source": [
    "\n",
    "\n"
   ]
  },
  {
   "cell_type": "code",
   "execution_count": 9,
   "metadata": {},
   "outputs": [],
   "source": [
    "\n",
    "\n"
   ]
  },
  {
   "cell_type": "code",
   "execution_count": null,
   "metadata": {},
   "outputs": [],
   "source": []
  }
 ],
 "metadata": {
  "kernelspec": {
   "display_name": "Python 3",
   "language": "python",
   "name": "python3"
  },
  "language_info": {
   "codemirror_mode": {
    "name": "ipython",
    "version": 3
   },
   "file_extension": ".py",
   "mimetype": "text/x-python",
   "name": "python",
   "nbconvert_exporter": "python",
   "pygments_lexer": "ipython3",
   "version": "3.7.1"
  }
 },
 "nbformat": 4,
 "nbformat_minor": 2
}
