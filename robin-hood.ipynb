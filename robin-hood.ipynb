{
 "cells": [
  {
   "cell_type": "markdown",
   "metadata": {},
   "source": [
    "# Robin Hood:\n",
    "We are in a competition to win the archery contest in Sherwood. With our bow and arrows we shoot on a target and try to hit as close as possible to the center.\n",
    "\n",
    "The center of the target is represented by the values (0, 0) on the coordinate axes.\n",
    "\n",
    "![](images/arrows.jpg)\n",
    "\n",
    "## Goals:\n",
    "* data structures: lists, sets, tuples\n",
    "* logical operators: if-elif-else\n",
    "* loop: while/for\n",
    "* minimum (optional sorting)\n",
    "\n",
    "## Description:\n",
    "In the 2-dimensional space, a point can be defined by a pair of values that correspond to the horizontal coordinate (x) and the vertical coordinate (y). The space can be divided into 4 zones (quadrants): Q1, Q2, Q3, Q4. Whose single point of union is the point (0, 0).\n",
    "\n",
    "If a point is in Q1 both its x coordinate and the y are positive. I leave a link to wikipedia to familiarize yourself with these quadrants.\n",
    "\n",
    "https://en.wikipedia.org/wiki/Cartesian_coordinate_system\n",
    "\n",
    "https://en.wikipedia.org/wiki/Euclidean_distance\n",
    "\n",
    "## Shots\n",
    "```\n",
    "points = [(4, 5), (-0, 2), (4, 7), (1, -3), (3, -2), (4, 5),\n",
    "          (3, 2), (5, 7), (-5, 7), (2, 2), (-4, 5), (0, -2),\n",
    "          (-4, 7), (-1, 3), (-3, 2), (-4, -5), (-3, 2),\n",
    "          (5, 7), (5, 7), (2, 2), (9, 9), (-8, -9)]\n",
    "```\n",
    "\n",
    "## Tasks\n",
    "1. Robin Hood is famous for hitting an arrow with another arrow. Did you get it?\n",
    "2. Calculate how many arrows have fallen in each quadrant.\n",
    "3. Find the point closest to the center. Calculate its distance to the center. \n",
    "4. If the target has a radius of 9, calculate the number of arrows that must be picked up in the forest."
   ]
  },
  {
   "cell_type": "code",
   "execution_count": 23,
   "metadata": {},
   "outputs": [
    {
     "name": "stdout",
     "output_type": "stream",
     "text": [
      "[(-4, 5), (4, 7), (3, 2), (4, 5), (-1, 3), (5, 7), (9, 9), (3, -2), (-5, 7), (-3, 2), (0, -2), (-4, -5), (2, 2), (-8, -9), (1, -3), (-4, 7), (0, 2)]\n",
      "10 arrows have fallen in the 1st quadrant.\n",
      "6 arrows have fallen in the 2nd quadrant.\n",
      "2 arrows have fallen in the 3rd quadrant.\n",
      "2 arrows have fallen in the 4th quadrant.\n",
      "2 arrows have fallen over the x axis.\n",
      "0 arrows have fallen over the y axis.\n",
      "(0, 2) is the closest point.\n",
      "2 arrows must be picked up in the forest.\n"
     ]
    }
   ],
   "source": [
    "# Variables\n",
    "\n",
    "points = [(4, 5), (-0, 2), (4, 7), (1, -3), (3, -2), (4, 5),\n",
    "          (3, 2), (5, 7), (-5, 7), (2, 2), (-4, 5), (0, -2),\n",
    "          (-4, 7), (-1, 3), (-3, 2), (-4, -5), (-3, 2),\n",
    "          (5, 7), (5, 7), (2, 2), (9, 9), (-8, -9)]\n",
    "\n",
    "# 1. Robin Hood is famous for hitting an arrow with another arrow. Did you get it?\n",
    "unique_pts = list(set(points))\n",
    "#print(len(points))\n",
    "print(unique_pts)\n",
    "#print(len(unique_pts))\n",
    "\n",
    "# 2. Calculate how many arrows have fallen in each quadrant.\n",
    "arrows_Q1 = 0\n",
    "arrows_Q2 = 0\n",
    "arrows_Q3 = 0\n",
    "arrows_Q4 = 0\n",
    "x_axis = 0\n",
    "y_axis = 0\n",
    "\n",
    "for (i,j) in points:\n",
    "    if i > 0 and j > 0:\n",
    "        arrows_Q1 += 1\n",
    "    elif i < 0 and j > 0:\n",
    "        arrows_Q2 += 1\n",
    "    elif i < 0 and j < 0:\n",
    "        arrows_Q3 += 1\n",
    "    elif i > 0 and j < 0:\n",
    "        arrows_Q4 += 1\n",
    "    elif i == 0:\n",
    "        x_axis += 1\n",
    "    elif j == 0:\n",
    "        y_axis += 1\n",
    "        \n",
    "print(arrows_Q1,\"arrows have fallen in the 1st quadrant.\")\n",
    "print(arrows_Q2,\"arrows have fallen in the 2nd quadrant.\")\n",
    "print(arrows_Q3,\"arrows have fallen in the 3rd quadrant.\")\n",
    "print(arrows_Q4,\"arrows have fallen in the 4th quadrant.\")\n",
    "print(x_axis,\"arrows have fallen over the x axis.\")\n",
    "print(y_axis,\"arrows have fallen over the y axis.\")\n",
    "\n",
    "\n",
    "# 3. Find the point closest to the center. Calculate its distance to the center\n",
    "# Defining a function that calculates the distance to the center can help.\n",
    "def distance_center(x,y):\n",
    "    d = (x**2 + y**2)**(1/2)\n",
    "    return d\n",
    "\n",
    "points_distance = {}\n",
    "\n",
    "for (i,j) in points:\n",
    "    distance = distance_center(i,j)\n",
    "    points_distance[(i,j)] = distance\n",
    "\n",
    "#print(points_distance)\n",
    "distance_list = list(points_distance.values())\n",
    "#print(distance_list)\n",
    "min_distance = min(distance_list)\n",
    "closest_point = list(points_distance.keys())[list(points_distance.values()).index(min_distance)] \n",
    "print(closest_point,\"is the closest point.\")\n",
    "\n",
    "\n",
    "# 4. If the target has a radius of 9, calculate the number of arrows that \n",
    "# must be picked up in the forest.\n",
    "radius = 9\n",
    "missed_target = 0\n",
    "\n",
    "for (i,j) in points:\n",
    "    if (i**2 + j**2) > radius**2:\n",
    "        missed_target += 1\n",
    "        \n",
    "print(missed_target,\"arrows must be picked up in the forest.\")\n"
   ]
  },
  {
   "cell_type": "code",
   "execution_count": null,
   "metadata": {},
   "outputs": [],
   "source": [
    "\n"
   ]
  },
  {
   "cell_type": "code",
   "execution_count": 3,
   "metadata": {},
   "outputs": [],
   "source": [
    "\n",
    "\n"
   ]
  },
  {
   "cell_type": "code",
   "execution_count": 4,
   "metadata": {},
   "outputs": [],
   "source": [
    "\n",
    "\n"
   ]
  },
  {
   "cell_type": "code",
   "execution_count": 5,
   "metadata": {},
   "outputs": [],
   "source": [
    "\n",
    "\n"
   ]
  },
  {
   "cell_type": "code",
   "execution_count": null,
   "metadata": {},
   "outputs": [],
   "source": []
  }
 ],
 "metadata": {
  "kernelspec": {
   "display_name": "Python 3",
   "language": "python",
   "name": "python3"
  },
  "language_info": {
   "codemirror_mode": {
    "name": "ipython",
    "version": 3
   },
   "file_extension": ".py",
   "mimetype": "text/x-python",
   "name": "python",
   "nbconvert_exporter": "python",
   "pygments_lexer": "ipython3",
   "version": "3.7.1"
  }
 },
 "nbformat": 4,
 "nbformat_minor": 2
}
